{
  "nbformat": 4,
  "nbformat_minor": 0,
  "metadata": {
    "colab": {
      "provenance": []
    },
    "kernelspec": {
      "name": "python3",
      "display_name": "Python 3"
    },
    "language_info": {
      "name": "python"
    }
  },
  "cells": [
    {
      "cell_type": "code",
      "source": [
        "# Import libraries\n",
        "import pandas as pd\n",
        "import numpy as np\n",
        "import matplotlib.pyplot as plt\n",
        "import seaborn as sns\n",
        "# Importing dataset\n",
        "dataset = pd.read_csv('https://raw.githubusercontent.com/Aditya-Mankar/Census-Income-Prediction/master/adult.csv')"
      ],
      "metadata": {
        "id": "3AfPwK3Se1L0"
      },
      "execution_count": null,
      "outputs": []
    },
    {
      "cell_type": "code",
      "source": [
        "# Preview dataset\n",
        "dataset.head()"
      ],
      "metadata": {
        "id": "Q1E2KHeYe5KT"
      },
      "execution_count": null,
      "outputs": []
    },
    {
      "cell_type": "code",
      "source": [
        "# Shape of dataset\n",
        "print('Rows: {} Columns: {}'.format(dataset.shape[0], dataset.shape[1]))\n",
        "dataset.info()\n",
        "\n",
        "# Statistical summary\n",
        "dataset.describe().T"
      ],
      "metadata": {
        "id": "FiF2cEHRfbNZ"
      },
      "execution_count": null,
      "outputs": []
    },
    {
      "cell_type": "code",
      "source": [
        "# Check for null values\n",
        "round((dataset.isnull().sum() / dataset.shape[0]) * 100, 2).astype(str) + ' %'"
      ],
      "metadata": {
        "id": "DZLzpqhyfgZ5"
      },
      "execution_count": null,
      "outputs": []
    },
    {
      "cell_type": "code",
      "source": [
        "# Check for '?' in dataset\n",
        "round((dataset.isin(['?']).sum() / dataset.shape[0]) * 100, 2).astype(str) + ' %'"
      ],
      "metadata": {
        "id": "4VQPVsshfiqI"
      },
      "execution_count": null,
      "outputs": []
    },
    {
      "cell_type": "code",
      "source": [
        "# Checking the counts of label categories\n",
        "income = dataset['income'].value_counts(normalize=True)\n",
        "round(income * 100, 2).astype('str') + ' %'"
      ],
      "metadata": {
        "id": "g-9LZATaflLo"
      },
      "execution_count": null,
      "outputs": []
    },
    {
      "cell_type": "code",
      "source": [
        "dataset = dataset.replace('?', np.nan)\n",
        "# Checking null values\n",
        "round((dataset.isnull().sum() / dataset.shape[0]) * 100, 2).astype(str) + ' %'"
      ],
      "metadata": {
        "id": "fsFrWvA3ftUw"
      },
      "execution_count": null,
      "outputs": []
    },
    {
      "cell_type": "code",
      "source": [
        "columns_with_nan = ['workclass', 'occupation', 'native.country']\n",
        "for col in columns_with_nan:\n",
        "    dataset[col].fillna(dataset[col].mode()[0], inplace = True)"
      ],
      "metadata": {
        "id": "ZTZgxR-CfvpY"
      },
      "execution_count": null,
      "outputs": []
    },
    {
      "cell_type": "code",
      "source": [
        "from sklearn.preprocessing import LabelEncoder\n",
        "for col in dataset.columns:\n",
        "  if dataset[col].dtypes == 'object':         \n",
        "    encoder = LabelEncoder()         \n",
        "    dataset[col] = encoder.fit_transform(dataset[col])"
      ],
      "metadata": {
        "id": "yFBPxzW2f1_A"
      },
      "execution_count": null,
      "outputs": []
    },
    {
      "cell_type": "code",
      "source": [
        "X = dataset.drop('income', axis = 1) \n",
        "Y = dataset['income']"
      ],
      "metadata": {
        "id": "RnhYsWBFf7Rg"
      },
      "execution_count": null,
      "outputs": []
    },
    {
      "cell_type": "code",
      "source": [
        "from sklearn.ensemble import ExtraTreesClassifier\n",
        "selector = ExtraTreesClassifier(random_state = 42)\n",
        "selector.fit(X, Y)\n",
        "feature_imp = selector.feature_importances_\n",
        "for index, val in enumerate(feature_imp):\n",
        "    print(index, round((val * 100), 2))"
      ],
      "metadata": {
        "id": "2QAhDlt7gALQ"
      },
      "execution_count": null,
      "outputs": []
    },
    {
      "cell_type": "code",
      "source": [
        "X = X.drop(['workclass', 'education', 'race', 'sex', 'capital.loss', 'native.country'], axis = 1)"
      ],
      "metadata": {
        "id": "B5hHkI8urCOU"
      },
      "execution_count": null,
      "outputs": []
    },
    {
      "cell_type": "code",
      "source": [
        "from sklearn.preprocessing import StandardScaler\n",
        "for col in X.columns:     \n",
        "  scaler = StandardScaler()     \n",
        "  X[col] = scaler.fit_transform(X[col].values.reshape(-1, 1))"
      ],
      "metadata": {
        "id": "2IpypJEkqr0m"
      },
      "execution_count": null,
      "outputs": []
    },
    {
      "cell_type": "code",
      "source": [
        "round(Y.value_counts(normalize=True) * 100, 2).astype('str') + ' %'"
      ],
      "metadata": {
        "id": "SBk_-MuorGMr"
      },
      "execution_count": null,
      "outputs": []
    },
    {
      "cell_type": "code",
      "source": [
        "from imblearn.over_sampling import RandomOverSampler \n",
        "ros = RandomOverSampler(random_state = 42)\n",
        "ros.fit(X, Y)\n",
        "X_resampled, Y_resampled = ros.fit_resample(X, Y)\n",
        "round(Y_resampled.value_counts(normalize=True) * 100, 2).astype('str') + ' %'"
      ],
      "metadata": {
        "id": "pxi21C8zrI2r"
      },
      "execution_count": null,
      "outputs": []
    },
    {
      "cell_type": "code",
      "source": [
        "from sklearn.model_selection import train_test_split\n",
        "X_train, X_test, Y_train, Y_test = train_test_split(X_resampled, Y_resampled, test_size = 0.2, random_state = 42)\n",
        "print(\"X_train shape:\", X_train.shape) \n",
        "print(\"X_test shape:\", X_test.shape) \n",
        "print(\"Y_train shape:\", Y_train.shape) \n",
        "print(\"Y_test shape:\", Y_test.shape)"
      ],
      "metadata": {
        "id": "edYZDJLdrNO7"
      },
      "execution_count": null,
      "outputs": []
    },
    {
      "cell_type": "code",
      "source": [
        "from sklearn.ensemble import RandomForestClassifier\n",
        "ran_for = RandomForestClassifier(random_state = 42)\n",
        "ran_for.fit(X_train, Y_train)\n",
        "Y_pred_ran_for = ran_for.predict(X_test)"
      ],
      "metadata": {
        "id": "3dU1oZ1IrV8K"
      },
      "execution_count": null,
      "outputs": []
    },
    {
      "cell_type": "code",
      "source": [
        "from sklearn.metrics import accuracy_score\n",
        "from sklearn.metrics import f1_score\n",
        "print('Random Forest Classifier:')\n",
        "print('Accuracy score:',round(accuracy_score(Y_test, Y_pred_ran_for) * 100, 2))\n",
        "print('F1 score:',round(f1_score(Y_test, Y_pred_ran_for) * 100, 2))"
      ],
      "metadata": {
        "id": "XPUZ8i8xraeS"
      },
      "execution_count": null,
      "outputs": []
    },
    {
      "cell_type": "code",
      "source": [
        "from sklearn.model_selection import RandomizedSearchCV\n",
        "n_estimators = [int(x) for x in np.linspace(start = 40, stop = 150, num = 15)]\n",
        "max_depth = [int(x) for x in np.linspace(40, 150, num = 15)]\n",
        "param_dist = {\n",
        "    'n_estimators' : n_estimators,\n",
        "    'max_depth' : max_depth,\n",
        "}\n",
        "rf_tuned = RandomForestClassifier(random_state = 42)\n",
        "rf_cv = RandomizedSearchCV(estimator = rf_tuned, param_distributions = param_dist, cv = 5, random_state = 42)\n",
        "rf_cv.fit(X_train, Y_train)\n",
        "rf_cv.best_score_"
      ],
      "metadata": {
        "id": "DiuLyfk1rdAS"
      },
      "execution_count": null,
      "outputs": []
    },
    {
      "cell_type": "code",
      "source": [
        "rf_cv.best_params_"
      ],
      "metadata": {
        "id": "ow12MuDjsh9_"
      },
      "execution_count": null,
      "outputs": []
    },
    {
      "cell_type": "code",
      "source": [
        "rf_best = RandomForestClassifier(max_depth = 102, n_estimators = 40, random_state = 42)\n",
        "rf_best.fit(X_train, Y_train)\n",
        "Y_pred_rf_best = rf_best.predict(X_test)\n",
        "print('Random Forest Classifier:') \n",
        "print('Accuracy score:',round(accuracy_score(Y_test, Y_pred_rf_best) * 100, 2)) \n",
        "print('F1 score:',round(f1_score(Y_test, Y_pred_rf_best) * 100, 2))"
      ],
      "metadata": {
        "id": "EtexqSGAsmR2"
      },
      "execution_count": null,
      "outputs": []
    },
    {
      "cell_type": "code",
      "source": [
        "from sklearn.metrics import confusion_matrix \n",
        "cm = confusion_matrix(Y_test, Y_pred_rf_best)"
      ],
      "metadata": {
        "id": "gGyij3vbspy3"
      },
      "execution_count": null,
      "outputs": []
    },
    {
      "cell_type": "code",
      "source": [
        "from sklearn.metrics import classification_report\n",
        "print(classification_report(Y_test, Y_pred_rf_best))"
      ],
      "metadata": {
        "id": "7VnoNeehstjm"
      },
      "execution_count": null,
      "outputs": []
    }
  ]
}